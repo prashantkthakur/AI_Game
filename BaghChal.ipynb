{
 "cells": [
  {
   "cell_type": "markdown",
   "metadata": {},
   "source": [
    "## BagChal modeling"
   ]
  },
  {
   "cell_type": "markdown",
   "metadata": {},
   "source": [
    "The board of baghchal looks like this..."
   ]
  },
  {
   "cell_type": "markdown",
   "metadata": {},
   "source": [
    "<img src=\"https://upload.wikimedia.org/wikipedia/commons/thumb/e/eb/Empty_Alquerque_board.svg/300px-Empty_Alquerque_board.svg.png\" />"
   ]
  },
  {
   "cell_type": "markdown",
   "metadata": {},
   "source": [
    "There are 25 vertices, where we place 4 tiger pieces and 20 goat pieces. These pieces can move if those vertices are connected by edges as shown in figure above. Initially all goat pieces are outside the board and all four tiger pieces are in four corners.\n",
    "\n",
    "We can model this board into python as list. Example: \n",
    "\n",
    "`board = ['T','','','','T','','G','','','','G','G','','','','','','','','','T','','','','T']`"
   ]
  },
  {
   "cell_type": "markdown",
   "metadata": {},
   "source": [
    "To print the board object in pretty form, we can use `printState(state)` method."
   ]
  },
  {
   "cell_type": "code",
   "execution_count": 1,
   "metadata": {
    "collapsed": true
   },
   "outputs": [],
   "source": [
    "import numpy as np"
   ]
  },
  {
   "cell_type": "code",
   "execution_count": 2,
   "metadata": {
    "collapsed": true
   },
   "outputs": [],
   "source": [
    "def printState(state):\n",
    "    boardStr = \"\"\n",
    "    for i in range(0, 25, 5):\n",
    "        boardStr += '---'.join(['o' if s == '' else s for s in state[i:i + 5]]) + \"\\n\"\n",
    "        if i < 20:\n",
    "            boardStr += \"| \\ | / | \\ | / |\\n\"  if i % 2 == 0 else \"| / | \\ | / | \\ |\\n\"\n",
    "    return boardStr"
   ]
  },
  {
   "cell_type": "code",
   "execution_count": 3,
   "metadata": {},
   "outputs": [
    {
     "name": "stdout",
     "output_type": "stream",
     "text": [
      "T---o---o---o---T\n",
      "| \\ | / | \\ | / |\n",
      "o---o---G---G---G\n",
      "| / | \\ | / | \\ |\n",
      "o---o---o---G---o\n",
      "| \\ | / | \\ | / |\n",
      "o---G---o---o---o\n",
      "| / | \\ | / | \\ |\n",
      "T---o---o---G---T\n",
      "\n"
     ]
    }
   ],
   "source": [
    "board = ['T','','','','T','','','G','G','G','','','','G','','','G','','','','T','','','G','T']\n",
    "print(printState(board))"
   ]
  },
  {
   "cell_type": "markdown",
   "metadata": {},
   "source": [
    "The board state is represented as 1D list but for computation it's easy with 2D list. For that we have utilities for converting to/from 1D to 2D."
   ]
  },
  {
   "cell_type": "code",
   "execution_count": 4,
   "metadata": {
    "collapsed": true
   },
   "outputs": [],
   "source": [
    "def to2D(idx):\n",
    "    if type(idx) is list:\n",
    "        return [(int(i / 5), i % 5) for i in idx]\n",
    "    else:\n",
    "        return (int(idx / 5), idx % 5)\n",
    "\n",
    "\n",
    "def to1D(coord):\n",
    "    if type(coord) is list:\n",
    "        return [i * 5 + j for (i, j) in coord]\n",
    "    else:\n",
    "        return coord[0] * 5 + coord[1]"
   ]
  },
  {
   "cell_type": "markdown",
   "metadata": {},
   "source": [
    "Let's find the position of goats in the board..."
   ]
  },
  {
   "cell_type": "code",
   "execution_count": 5,
   "metadata": {},
   "outputs": [
    {
     "name": "stdout",
     "output_type": "stream",
     "text": [
      "idx in 1D list: [7, 8, 9, 13, 16, 23]\n",
      "2D repr: [(1, 2), (1, 3), (1, 4), (2, 3), (3, 1), (4, 3)]\n"
     ]
    }
   ],
   "source": [
    "idx = [i for i, x in enumerate(board) if x == 'G']\n",
    "print(\"idx in 1D list:\", idx)\n",
    "print(\"2D repr:\", to2D(idx))"
   ]
  },
  {
   "cell_type": "code",
   "execution_count": 6,
   "metadata": {
    "collapsed": true
   },
   "outputs": [],
   "source": [
    "def positionOf(player, state):\n",
    "    idx = [i for i, x in enumerate(state) if x == player]\n",
    "    return to2D(idx)"
   ]
  },
  {
   "cell_type": "code",
   "execution_count": 7,
   "metadata": {},
   "outputs": [
    {
     "name": "stdout",
     "output_type": "stream",
     "text": [
      "[(1, 2), (1, 3), (1, 4), (2, 3), (3, 1), (4, 3)]\n"
     ]
    }
   ],
   "source": [
    "print(positionOf('G', board))"
   ]
  },
  {
   "cell_type": "markdown",
   "metadata": {},
   "source": [
    "Moves are represented by tuples as `(source, dest)`, where source, dest are indices in 1D list representation of board. If we want to bring in goat piece from outside of board to inside source is -1.\n",
    "\n",
    "For computing the available moves from current board state, we have these utility methods..."
   ]
  },
  {
   "cell_type": "code",
   "execution_count": 8,
   "metadata": {
    "collapsed": true
   },
   "outputs": [],
   "source": [
    "def action(position):\n",
    "    moves = ['up', 'down', 'right', 'left']\n",
    "    row,col = position\n",
    "    if row == 0:\n",
    "        moves.remove('up')\n",
    "    if row == 4:\n",
    "        moves.remove('down')\n",
    "    if col == 0:\n",
    "        moves.remove('left')\n",
    "    if col == 4:\n",
    "        moves.remove('right')\n",
    "\n",
    "    return moves\n",
    "\n",
    "# Takes current board (5X5 matrix), position to compute side moves.\n",
    "def side_move(board,position):\n",
    "    new_position = []\n",
    "    idx = np.where(board == '')\n",
    "    blank_position = set(list(zip(idx[0],idx[1])))\n",
    "    moves = action(position)\n",
    "    row, col = position\n",
    "    # print(position)\n",
    "    # Compute new position based on moves\n",
    "    for move in moves:\n",
    "        if move == 'up':\n",
    "            new_position.append((row-1,col))\n",
    "        if move == 'down':\n",
    "            new_position.append((row+1,col))\n",
    "        if move == 'left':\n",
    "            new_position.append((row,col-1))\n",
    "        if move == 'right':\n",
    "            new_position.append((row,col+1))\n",
    "\n",
    "    # Check for diagonal moves.\n",
    "    if (row+col) % 2 == 0:\n",
    "        if 'down' in moves:\n",
    "            if 'right' in moves:\n",
    "                new_position.append((row+1,col+1))\n",
    "            if 'left' in moves:\n",
    "                new_position.append((row+1, col-1))\n",
    "        if 'up' in moves:\n",
    "            if 'right' in moves:\n",
    "                new_position.append((row-1, col+1))\n",
    "            if 'left' in moves:\n",
    "                new_position.append((row-1, col-1))\n",
    "    # Return all positions which is empty (no other animal already present).\n",
    "    valid_moves = list(set(new_position) & blank_position)\n",
    "    # print(\"Valid moves:{}\".format(valid_moves))\n",
    "    return valid_moves\n",
    "\n",
    "# board is 5X5 matrix, position of tiger which needs to jump.\n",
    "def jumping_move(board, position):\n",
    "    valid_moves = []\n",
    "    new_position = []\n",
    "    idx = np.where(board == '')\n",
    "    blank_position = set(list(zip(idx[0],idx[1])))\n",
    "    goat_idx = np.where(board == 'G')\n",
    "    goat_position = set(list(zip(goat_idx[0],goat_idx[1])))\n",
    "    moves = action(position)\n",
    "    jump_moves = moves.copy()\n",
    "    row,col = position\n",
    "    for move in moves:\n",
    "        if (row+2 >= 5 and move == 'down') or (row-2 <= -1 and move == 'up') or (col+2 >= 5 and move == 'right') \\\n",
    "                or (col-2 <= -1 and move == 'left'):\n",
    "            jump_moves.remove(move)\n",
    "            continue\n",
    "        else:\n",
    "            if move == 'up':\n",
    "                new_position.append((row-2,col))\n",
    "            if move == 'down':\n",
    "                new_position.append((row+2,col))\n",
    "            if move == 'left':\n",
    "                new_position.append((row,col-2))\n",
    "            if move == 'right':\n",
    "                new_position.append((row,col+2))\n",
    "    # print(position, jump_moves)\n",
    "    # Check for diagonal moves.\n",
    "    if (row+col) % 2 == 0:\n",
    "        if 'down' in jump_moves:\n",
    "            if 'right' in jump_moves:\n",
    "                new_position.append((row+2,col+2))\n",
    "            if 'left' in jump_moves:\n",
    "                new_position.append((row+2, col-2))\n",
    "        if 'up' in jump_moves:\n",
    "            if 'right' in jump_moves:\n",
    "                new_position.append((row-2, col+2))\n",
    "            if 'left' in jump_moves:\n",
    "                new_position.append((row-2, col-2))\n",
    "\n",
    "    # print(\"Jumpables:{}\".format(jumpables))\n",
    "    # Check if there is a goat in-between the jump position and current position.\n",
    "    for pos in set(new_position) & blank_position:\n",
    "        r, c = pos\n",
    "        if ((row+r)/2, (col+c)/2) in goat_position:\n",
    "            valid_moves.append(pos)\n",
    "        else:\n",
    "            continue\n",
    "    # print(\"Valid moves:{}\".format(valid_moves))\n",
    "    return valid_moves\n",
    "\n",
    "def output_pair(data):\n",
    "    output = []\n",
    "    for key, values in data.items():\n",
    "        src = to1D(key)\n",
    "        for val in values:\n",
    "            output.append((src,to1D(val)))\n",
    "    return output"
   ]
  },
  {
   "cell_type": "markdown",
   "metadata": {},
   "source": [
    "To compute valid goat moves..."
   ]
  },
  {
   "cell_type": "code",
   "execution_count": 9,
   "metadata": {
    "collapsed": true
   },
   "outputs": [],
   "source": [
    "def valid_goat_move(board):\n",
    "    initial_moves = []\n",
    "    current_board = np.array(board).reshape(5,5)\n",
    "    idx = np.where(current_board == '')\n",
    "    goat_data = dict()\n",
    "    num_goat_in_board = len(positionOf('G', board))\n",
    "    num_goats = num_goat_in_board + goat_lost\n",
    "    if num_goats < 20:\n",
    "        for val in (list(zip(idx[0],idx[1]))):\n",
    "            initial_moves.append(to1D(val))\n",
    "        return [(-1,c) for c in initial_moves]\n",
    "    else:\n",
    "        goat_idx = np.where(current_board == 'G')\n",
    "        positions = list(zip(goat_idx[0], goat_idx[1]))\n",
    "        # Compute all legal moves for a given position\n",
    "        for position in positions:\n",
    "            side_move = side_move(current_board, position)\n",
    "            if side_move:\n",
    "                goat_data[position] = side_move\n",
    "    # print(goat_data)\n",
    "    return output_pair(goat_data)"
   ]
  },
  {
   "cell_type": "code",
   "execution_count": 10,
   "metadata": {},
   "outputs": [
    {
     "name": "stdout",
     "output_type": "stream",
     "text": [
      "T---G---G---G---T\n",
      "| \\ | / | \\ | / |\n",
      "o---o---G---G---G\n",
      "| / | \\ | / | \\ |\n",
      "o---T---o---G---o\n",
      "| \\ | / | \\ | / |\n",
      "G---G---o---o---o\n",
      "| / | \\ | / | \\ |\n",
      "T---o---o---G---o\n",
      "\n"
     ]
    }
   ],
   "source": [
    "board = ['T','G','G','G','T','','','G','G','G','','T','','G','','G','G','','','','T','','','G','']\n",
    "print(printState(board))"
   ]
  },
  {
   "cell_type": "code",
   "execution_count": 11,
   "metadata": {},
   "outputs": [
    {
     "data": {
      "text/plain": [
       "[(-1, 5),\n",
       " (-1, 6),\n",
       " (-1, 10),\n",
       " (-1, 12),\n",
       " (-1, 14),\n",
       " (-1, 17),\n",
       " (-1, 18),\n",
       " (-1, 19),\n",
       " (-1, 21),\n",
       " (-1, 22),\n",
       " (-1, 24)]"
      ]
     },
     "execution_count": 11,
     "metadata": {},
     "output_type": "execute_result"
    }
   ],
   "source": [
    "goat_lost = 1\n",
    "valid_goat_move(board)"
   ]
  },
  {
   "cell_type": "markdown",
   "metadata": {},
   "source": [
    "To compute valid tiger moves.."
   ]
  },
  {
   "cell_type": "code",
   "execution_count": 12,
   "metadata": {
    "collapsed": true
   },
   "outputs": [],
   "source": [
    "def valid_tiger_move(board):\n",
    "    current_board = np.array(board).reshape(5,5)\n",
    "    tiger_idx = np.where(current_board == 'T')\n",
    "    positions = list(zip(tiger_idx[0], tiger_idx[1]))\n",
    "    tiger_data = dict()\n",
    "    # Check side move\n",
    "    for position in positions:\n",
    "        # Check slide move\n",
    "        side_moves = side_move(current_board,position)\n",
    "        if side_moves:\n",
    "            tiger_data[position]= side_moves\n",
    "        # Check jump move\n",
    "        jump_moves = jumping_move(current_board,position)\n",
    "        if jump_moves:\n",
    "            if tiger_data.get(position):\n",
    "                tiger_data[position].extend(jump_moves)\n",
    "            else:\n",
    "                tiger_data[position]= jump_moves\n",
    "    # print(tiger_data)\n",
    "    return output_pair(tiger_data)"
   ]
  },
  {
   "cell_type": "code",
   "execution_count": 13,
   "metadata": {},
   "outputs": [
    {
     "data": {
      "text/plain": [
       "[(0, 5),\n",
       " (0, 6),\n",
       " (4, 14),\n",
       " (4, 12),\n",
       " (11, 10),\n",
       " (11, 6),\n",
       " (11, 12),\n",
       " (11, 21),\n",
       " (20, 21),\n",
       " (20, 10),\n",
       " (20, 12)]"
      ]
     },
     "execution_count": 13,
     "metadata": {},
     "output_type": "execute_result"
    }
   ],
   "source": [
    "valid_tiger_move(board)"
   ]
  },
  {
   "cell_type": "markdown",
   "metadata": {},
   "source": [
    "These methods are wrapped in `GameBoard` class. "
   ]
  },
  {
   "cell_type": "code",
   "execution_count": 14,
   "metadata": {
    "collapsed": true
   },
   "outputs": [],
   "source": [
    "from baghchal import GameBoard"
   ]
  },
  {
   "cell_type": "code",
   "execution_count": 15,
   "metadata": {},
   "outputs": [
    {
     "name": "stdout",
     "output_type": "stream",
     "text": [
      "T---o---o---o---T\n",
      "| \\ | / | \\ | / |\n",
      "o---o---o---o---o\n",
      "| / | \\ | / | \\ |\n",
      "o---o---o---o---o\n",
      "| \\ | / | \\ | / |\n",
      "o---o---o---o---o\n",
      "| / | \\ | / | \\ |\n",
      "T---o---o---o---T\n",
      "\n"
     ]
    }
   ],
   "source": [
    "game = GameBoard()\n",
    "print(game)"
   ]
  },
  {
   "cell_type": "markdown",
   "metadata": {},
   "source": [
    "First move is made by goat player. So the available moves for current board are:"
   ]
  },
  {
   "cell_type": "code",
   "execution_count": 16,
   "metadata": {},
   "outputs": [
    {
     "data": {
      "text/plain": [
       "[(-1, 1),\n",
       " (-1, 2),\n",
       " (-1, 3),\n",
       " (-1, 5),\n",
       " (-1, 6),\n",
       " (-1, 7),\n",
       " (-1, 8),\n",
       " (-1, 9),\n",
       " (-1, 10),\n",
       " (-1, 11),\n",
       " (-1, 12),\n",
       " (-1, 13),\n",
       " (-1, 14),\n",
       " (-1, 15),\n",
       " (-1, 16),\n",
       " (-1, 17),\n",
       " (-1, 18),\n",
       " (-1, 19),\n",
       " (-1, 21),\n",
       " (-1, 22),\n",
       " (-1, 23)]"
      ]
     },
     "execution_count": 16,
     "metadata": {},
     "output_type": "execute_result"
    }
   ],
   "source": [
    "game.availableMoves()"
   ]
  },
  {
   "cell_type": "code",
   "execution_count": 17,
   "metadata": {},
   "outputs": [
    {
     "name": "stdout",
     "output_type": "stream",
     "text": [
      "T---G---o---o---T\n",
      "| \\ | / | \\ | / |\n",
      "o---o---o---o---o\n",
      "| / | \\ | / | \\ |\n",
      "o---o---o---o---o\n",
      "| \\ | / | \\ | / |\n",
      "o---o---o---o---o\n",
      "| / | \\ | / | \\ |\n",
      "T---o---o---o---T\n",
      "\n"
     ]
    }
   ],
   "source": [
    "game.makeMove((-1,1))\n",
    "print(game)"
   ]
  },
  {
   "cell_type": "markdown",
   "metadata": {},
   "source": [
    "Now it's turn for tiger player after goat player made its move.."
   ]
  },
  {
   "cell_type": "code",
   "execution_count": 18,
   "metadata": {},
   "outputs": [
    {
     "data": {
      "text/plain": [
       "[(0, 5),\n",
       " (0, 6),\n",
       " (0, 2),\n",
       " (4, 3),\n",
       " (4, 8),\n",
       " (4, 9),\n",
       " (20, 15),\n",
       " (20, 16),\n",
       " (20, 21),\n",
       " (24, 19),\n",
       " (24, 18),\n",
       " (24, 23)]"
      ]
     },
     "execution_count": 18,
     "metadata": {},
     "output_type": "execute_result"
    }
   ],
   "source": [
    "game.availableMoves()"
   ]
  },
  {
   "cell_type": "code",
   "execution_count": 19,
   "metadata": {},
   "outputs": [
    {
     "name": "stdout",
     "output_type": "stream",
     "text": [
      "o---G---o---o---T\n",
      "| \\ | / | \\ | / |\n",
      "T---o---o---o---o\n",
      "| / | \\ | / | \\ |\n",
      "o---o---o---o---o\n",
      "| \\ | / | \\ | / |\n",
      "o---o---o---o---o\n",
      "| / | \\ | / | \\ |\n",
      "T---o---o---o---T\n",
      "\n"
     ]
    }
   ],
   "source": [
    "game.makeMove((0,5))\n",
    "print(game)"
   ]
  },
  {
   "cell_type": "code",
   "execution_count": 20,
   "metadata": {},
   "outputs": [
    {
     "name": "stdout",
     "output_type": "stream",
     "text": [
      "T---G---o---o---T\n",
      "| \\ | / | \\ | / |\n",
      "o---o---o---o---o\n",
      "| / | \\ | / | \\ |\n",
      "o---o---o---o---o\n",
      "| \\ | / | \\ | / |\n",
      "o---o---o---o---o\n",
      "| / | \\ | / | \\ |\n",
      "T---o---o---o---T\n",
      "\n"
     ]
    }
   ],
   "source": [
    "game.unmakeMove((0,5))\n",
    "print(game)"
   ]
  },
  {
   "cell_type": "code",
   "execution_count": 21,
   "metadata": {},
   "outputs": [
    {
     "data": {
      "text/plain": [
       "False"
      ]
     },
     "execution_count": 21,
     "metadata": {},
     "output_type": "execute_result"
    }
   ],
   "source": [
    "game.isOver()"
   ]
  },
  {
   "cell_type": "markdown",
   "metadata": {},
   "source": [
    "## Evaluation of board state"
   ]
  },
  {
   "cell_type": "markdown",
   "metadata": {},
   "source": [
    "The evaluation functions for evaluating different state of the game are in `Evaluation` class. Different informations that we can extract from the board are here.."
   ]
  },
  {
   "cell_type": "markdown",
   "metadata": {},
   "source": [
    "### Distance among goats"
   ]
  },
  {
   "cell_type": "markdown",
   "metadata": {},
   "source": [
    "Distance between two goats is like manhattan distance but considering the diagonal lines in board. Then distance among goats is defined as sum of distances from one goat to every other goats divided by total number of goats in board."
   ]
  },
  {
   "cell_type": "code",
   "execution_count": 22,
   "metadata": {
    "collapsed": true
   },
   "outputs": [],
   "source": [
    "def distBetweenGoat(pos1, pos2):\n",
    "    diff0 = abs(pos2[0]-pos1[0])\n",
    "    diff1 = abs(pos2[1]-pos1[1])\n",
    "    diff = max(diff0, diff1)\n",
    "    return diff + (1 if (diff !=0 and (pos1[0]+pos1[1])%2!=0 and (pos2[0]+pos2[1])%2!=0) else 0)\n",
    "\n",
    "\n",
    "def goatDistanceAmong(game):\n",
    "    sum = 0\n",
    "    goatPos = game.positionOf('G', game.board)\n",
    "    for pos1 in goatPos:\n",
    "        for pos2 in goatPos:\n",
    "            sum += distBetweenGoat(pos1,pos2)\n",
    "    return sum/(len(goatPos)+1)"
   ]
  },
  {
   "cell_type": "code",
   "execution_count": 23,
   "metadata": {},
   "outputs": [
    {
     "name": "stdout",
     "output_type": "stream",
     "text": [
      "T---G---G---G---T\n",
      "| \\ | / | \\ | / |\n",
      "o---o---G---G---G\n",
      "| / | \\ | / | \\ |\n",
      "o---T---o---G---o\n",
      "| \\ | / | \\ | / |\n",
      "G---G---o---o---o\n",
      "| / | \\ | / | \\ |\n",
      "T---o---o---G---o\n",
      "\n"
     ]
    },
    {
     "data": {
      "text/plain": [
       "21.636363636363637"
      ]
     },
     "execution_count": 23,
     "metadata": {},
     "output_type": "execute_result"
    }
   ],
   "source": [
    "game.board = ['T','G','G','G','T','','','G','G','G','','T','','G','','G','G','','','','T','','','G','']\n",
    "print(game)\n",
    "goatDistanceAmong(game)"
   ]
  },
  {
   "cell_type": "code",
   "execution_count": 24,
   "metadata": {
    "scrolled": true
   },
   "outputs": [
    {
     "name": "stdout",
     "output_type": "stream",
     "text": [
      "T---G---G---G---T\n",
      "| \\ | / | \\ | / |\n",
      "G---G---G---G---G\n",
      "| / | \\ | / | \\ |\n",
      "G---T---o---G---o\n",
      "| \\ | / | \\ | / |\n",
      "o---o---o---o---o\n",
      "| / | \\ | / | \\ |\n",
      "T---o---o---o---o\n",
      "\n"
     ]
    },
    {
     "data": {
      "text/plain": [
       "17.636363636363637"
      ]
     },
     "execution_count": 24,
     "metadata": {},
     "output_type": "execute_result"
    }
   ],
   "source": [
    "game.board = ['T','G','G','G','T','G','G','G','G','G','G','T','','G','','','','','','','T','','','','']\n",
    "print(game)\n",
    "goatDistanceAmong(game)"
   ]
  },
  {
   "cell_type": "markdown",
   "metadata": {},
   "source": [
    "### Tiger Movability"
   ]
  },
  {
   "cell_type": "markdown",
   "metadata": {},
   "source": [
    "Number of available moves for tiger in given board state..."
   ]
  },
  {
   "cell_type": "code",
   "execution_count": 25,
   "metadata": {
    "collapsed": true
   },
   "outputs": [],
   "source": [
    "def tigerMovability(game):\n",
    "    return len(game.valid_tiger_move())"
   ]
  },
  {
   "cell_type": "code",
   "execution_count": 26,
   "metadata": {},
   "outputs": [
    {
     "data": {
      "text/plain": [
       "8"
      ]
     },
     "execution_count": 26,
     "metadata": {},
     "output_type": "execute_result"
    }
   ],
   "source": [
    "tigerMovability(game)"
   ]
  },
  {
   "cell_type": "markdown",
   "metadata": {},
   "source": [
    "### Vulnerable Goats"
   ]
  },
  {
   "cell_type": "markdown",
   "metadata": {},
   "source": [
    "Total number of goats which could be killed in current board state."
   ]
  },
  {
   "cell_type": "code",
   "execution_count": 27,
   "metadata": {
    "collapsed": true
   },
   "outputs": [],
   "source": [
    "def vulnerableGoats(game):\n",
    "    deadGoatsNextLevel = 0\n",
    "    moves = game.valid_tiger_move()\n",
    "    for move in moves:\n",
    "        source = game.to2D(move[0])\n",
    "        dest = game.to2D(move[1])\n",
    "        if max(abs(dest[0]-source[0]), abs(dest[1]-source[1])) > 1:\n",
    "            deadGoatsNextLevel += 1\n",
    "    return deadGoatsNextLevel"
   ]
  },
  {
   "cell_type": "code",
   "execution_count": 28,
   "metadata": {},
   "outputs": [
    {
     "data": {
      "text/plain": [
       "3"
      ]
     },
     "execution_count": 28,
     "metadata": {},
     "output_type": "execute_result"
    }
   ],
   "source": [
    "vulnerableGoats(game)"
   ]
  },
  {
   "cell_type": "markdown",
   "metadata": {},
   "source": [
    "### Number of goat lost"
   ]
  },
  {
   "cell_type": "code",
   "execution_count": 29,
   "metadata": {},
   "outputs": [
    {
     "data": {
      "text/plain": [
       "0"
      ]
     },
     "execution_count": 29,
     "metadata": {},
     "output_type": "execute_result"
    }
   ],
   "source": [
    "game.goat_lost"
   ]
  },
  {
   "cell_type": "markdown",
   "metadata": {},
   "source": [
    "### Evaluation function"
   ]
  },
  {
   "cell_type": "markdown",
   "metadata": {},
   "source": [
    "The evaluation function is linear combination of these informations that we can extract from board. So the evaluation function looks like:\n",
    "\n",
    "$$evalFuncTiger(game) = 1*vulnerableGoats(game) + 5*game.goat\\_lost + 1*tigerMovability(game) + 1*goatDistanceAmong(game)$$\n",
    "\n",
    "For tiger player, higher values of `vulnerableGoats(game)`, `game.goat_lost`, `tigerMovability(game)` and `goatDistanceAmong(game)` is preferable. For goat player, smaller values of these individual utility functions are preferable. The total value of this evaluation function should be maximized for tiger player and minimized for goat player. In terms of goat player, same evaluation function can be used by taking negative as:\n",
    "$$evalFuncGoat(game) = -1 * evalFuncTiger(game)$$"
   ]
  },
  {
   "cell_type": "markdown",
   "metadata": {},
   "source": [
    "Sample of one evaluation function where goat player plays random move and tiger player uses heuristic evaluation function is like below:"
   ]
  },
  {
   "cell_type": "code",
   "execution_count": 30,
   "metadata": {},
   "outputs": [],
   "source": [
    "from random import randint\n",
    "def evaluate(game):\n",
    "    metric = 1*vulnerableGoats(game) + 5*game.goat_lost \\\n",
    "        + 1*tigerMovability(game) + 1*goatDistanceAmong(game)\n",
    "    if (game.player == 'T'):\n",
    "        return metric\n",
    "    else:\n",
    "        return  randint(-10,10)"
   ]
  },
  {
   "cell_type": "code",
   "execution_count": 31,
   "metadata": {},
   "outputs": [
    {
     "data": {
      "text/plain": [
       "-6"
      ]
     },
     "execution_count": 31,
     "metadata": {},
     "output_type": "execute_result"
    }
   ],
   "source": [
    "evaluate(game)"
   ]
  },
  {
   "cell_type": "markdown",
   "metadata": {},
   "source": [
    "These methods are implemented in `Evaluation` class."
   ]
  },
  {
   "cell_type": "code",
   "execution_count": 32,
   "metadata": {
    "collapsed": true
   },
   "outputs": [],
   "source": [
    "from evaluation import Evaluation"
   ]
  },
  {
   "cell_type": "markdown",
   "metadata": {},
   "source": [
    "## Minimax"
   ]
  },
  {
   "cell_type": "code",
   "execution_count": 33,
   "metadata": {
    "collapsed": true
   },
   "outputs": [],
   "source": [
    "def minimax(game, depth, maximizingPlayer, evalF):\n",
    "    if depth==0 or game.isOver():\n",
    "        evaluation = evalF(game)\n",
    "        #print(game, \"Player\", game.player, \"LAD\", game.playerLookAhead, \"eval\", evaluation)\n",
    "        return evaluation, None\n",
    "\n",
    "    bestMove = None\n",
    "    if maximizingPlayer==game.playerLookAhead:\n",
    "        bestValue = float(\"-inf\")\n",
    "        for move in game.availableMoves():\n",
    "            game.makeMove(move)\n",
    "            v, _ = minimax(game, depth-1, maximizingPlayer, evalF)\n",
    "            if v > bestValue:\n",
    "                bestValue = v\n",
    "                bestMove = move\n",
    "            game.unmakeMove(move)\n",
    "    else:\n",
    "        bestValue = float(\"+inf\")\n",
    "        for move in game.availableMoves():\n",
    "            game.makeMove(move)\n",
    "            v, _ = minimax(game, depth-1, maximizingPlayer, evalF)\n",
    "            if v < bestValue:\n",
    "                bestValue = v\n",
    "                bestMove = move\n",
    "            game.unmakeMove(move)\n",
    "\n",
    "    return bestValue, bestMove"
   ]
  },
  {
   "cell_type": "code",
   "execution_count": 34,
   "metadata": {},
   "outputs": [
    {
     "data": {
      "text/plain": [
       "((4, 12), 904)"
      ]
     },
     "execution_count": 34,
     "metadata": {},
     "output_type": "execute_result"
    }
   ],
   "source": [
    "game.movesExplored = 0\n",
    "_, move = minimax(game, 3, 'G', Evaluation.evaluate)\n",
    "move, game.getMovesExplored()"
   ]
  },
  {
   "cell_type": "markdown",
   "metadata": {},
   "source": [
    "## Minimax with alpha beta pruning"
   ]
  },
  {
   "cell_type": "code",
   "execution_count": 35,
   "metadata": {
    "collapsed": true
   },
   "outputs": [],
   "source": [
    "def alphabeta(game, depth, maximizingPlayer, evalF, alpha=float(\"-inf\"), beta=float(\"inf\")):\n",
    "    if depth==0 or game.isOver():\n",
    "        evaluation = evalF(game)\n",
    "        return evaluation, None\n",
    "\n",
    "    bestMove = None\n",
    "    if maximizingPlayer==game.playerLookAhead:\n",
    "        bestValue = float(\"-inf\")\n",
    "        for move in game.availableMoves():\n",
    "            game.makeMove(move)\n",
    "            v, _ = alphabeta(game, depth-1, maximizingPlayer, evalF, alpha, beta)\n",
    "            if v > bestValue:\n",
    "                bestValue = v\n",
    "                bestMove = move\n",
    "            game.unmakeMove(move)\n",
    "            alpha = max(bestValue, alpha)\n",
    "            if alpha >= beta:\n",
    "                break\n",
    "    else:\n",
    "        bestValue = float(\"+inf\")\n",
    "        for move in game.availableMoves():\n",
    "            game.makeMove(move)\n",
    "            v, _ = alphabeta(game, depth-1, maximizingPlayer, evalF, alpha, beta)\n",
    "            if v < bestValue:\n",
    "                bestValue = v\n",
    "                bestMove = move\n",
    "            game.unmakeMove(move)\n",
    "            beta = min(bestValue, beta)\n",
    "            if alpha >= beta:\n",
    "                break\n",
    "\n",
    "    return bestValue, bestMove"
   ]
  },
  {
   "cell_type": "code",
   "execution_count": 36,
   "metadata": {},
   "outputs": [
    {
     "data": {
      "text/plain": [
       "((4, 12), 171)"
      ]
     },
     "execution_count": 36,
     "metadata": {},
     "output_type": "execute_result"
    }
   ],
   "source": [
    "game.movesExplored = 0\n",
    "_, move = alphabeta(game, 3, 'G', Evaluation.evaluate)\n",
    "move, game.getMovesExplored()"
   ]
  },
  {
   "cell_type": "markdown",
   "metadata": {},
   "source": [
    "## Game play"
   ]
  },
  {
   "cell_type": "code",
   "execution_count": 37,
   "metadata": {
    "collapsed": true
   },
   "outputs": [],
   "source": [
    "def gamePlay():\n",
    "    game = GameBoard()\n",
    "    moves = 0\n",
    "    while not game.isOver() and moves<101:\n",
    "        value, move = alphabeta(game, 3, game.player, evaluate)\n",
    "        if move is None:\n",
    "            print('move is None. Stopping')\n",
    "            break\n",
    "        game.makeMove(move)\n",
    "        moves += 1\n",
    "        print(\"\\nPlayer\", game.player, \"to\", move, \"for value\", value)\n",
    "        print(game)\n",
    "        game.changePlayer()\n",
    "    print(\"Moves Explored\", game.getMovesExplored(), \"Moves: \", moves)\n",
    "    print(\"EBF: \", Evaluation.ebf(game.getMovesExplored(), moves))"
   ]
  },
  {
   "cell_type": "code",
   "execution_count": 38,
   "metadata": {
    "scrolled": false
   },
   "outputs": [
    {
     "name": "stdout",
     "output_type": "stream",
     "text": [
      "\n",
      "Player G to (-1, 1) for value 9\n",
      "T---G---o---o---T\n",
      "| \\ | / | \\ | / |\n",
      "o---o---o---o---o\n",
      "| / | \\ | / | \\ |\n",
      "o---o---o---o---o\n",
      "| \\ | / | \\ | / |\n",
      "o---o---o---o---o\n",
      "| / | \\ | / | \\ |\n",
      "T---o---o---o---T\n",
      "\n",
      "\n",
      "Player T to (0, 2) for value 23.0\n",
      "o---o---T---o---T\n",
      "| \\ | / | \\ | / |\n",
      "o---o---o---o---o\n",
      "| / | \\ | / | \\ |\n",
      "o---o---o---o---o\n",
      "| \\ | / | \\ | / |\n",
      "o---o---o---o---o\n",
      "| / | \\ | / | \\ |\n",
      "T---o---o---o---T\n",
      "Goats Dead: 1\n",
      "\n",
      "\n",
      "Player G to (-1, 22) for value 9\n",
      "o---o---T---o---T\n",
      "| \\ | / | \\ | / |\n",
      "o---o---o---o---o\n",
      "| / | \\ | / | \\ |\n",
      "o---o---o---o---o\n",
      "| \\ | / | \\ | / |\n",
      "o---o---o---o---o\n",
      "| / | \\ | / | \\ |\n",
      "T---o---G---o---T\n",
      "Goats Dead: 1\n",
      "\n",
      "\n",
      "Player T to (2, 6) for value 26.666666666666668\n",
      "o---o---o---o---T\n",
      "| \\ | / | \\ | / |\n",
      "o---T---o---o---o\n",
      "| / | \\ | / | \\ |\n",
      "o---o---o---o---o\n",
      "| \\ | / | \\ | / |\n",
      "o---o---o---o---o\n",
      "| / | \\ | / | \\ |\n",
      "T---o---G---o---T\n",
      "Goats Dead: 1\n",
      "\n",
      "\n",
      "Player G to (-1, 9) for value 8\n",
      "o---o---o---o---T\n",
      "| \\ | / | \\ | / |\n",
      "o---T---o---o---G\n",
      "| / | \\ | / | \\ |\n",
      "o---o---o---o---o\n",
      "| \\ | / | \\ | / |\n",
      "o---o---o---o---o\n",
      "| / | \\ | / | \\ |\n",
      "T---o---G---o---T\n",
      "Goats Dead: 1\n",
      "\n",
      "\n",
      "Player T to (4, 14) for value 32.333333333333336\n",
      "o---o---o---o---o\n",
      "| \\ | / | \\ | / |\n",
      "o---T---o---o---o\n",
      "| / | \\ | / | \\ |\n",
      "o---o---o---o---T\n",
      "| \\ | / | \\ | / |\n",
      "o---o---o---o---o\n",
      "| / | \\ | / | \\ |\n",
      "T---o---G---o---T\n",
      "Goats Dead: 2\n",
      "\n",
      "\n",
      "Player G to (-1, 1) for value 9\n",
      "o---G---o---o---o\n",
      "| \\ | / | \\ | / |\n",
      "o---T---o---o---o\n",
      "| / | \\ | / | \\ |\n",
      "o---o---o---o---T\n",
      "| \\ | / | \\ | / |\n",
      "o---o---o---o---o\n",
      "| / | \\ | / | \\ |\n",
      "T---o---G---o---T\n",
      "Goats Dead: 2\n",
      "\n",
      "\n",
      "Player T to (14, 8) for value 37.5\n",
      "o---G---o---o---o\n",
      "| \\ | / | \\ | / |\n",
      "o---T---o---T---o\n",
      "| / | \\ | / | \\ |\n",
      "o---o---o---o---o\n",
      "| \\ | / | \\ | / |\n",
      "o---o---o---o---o\n",
      "| / | \\ | / | \\ |\n",
      "T---o---G---o---T\n",
      "Goats Dead: 2\n",
      "\n",
      "\n",
      "Player G to (-1, 7) for value 9\n",
      "o---G---o---o---o\n",
      "| \\ | / | \\ | / |\n",
      "o---T---G---T---o\n",
      "| / | \\ | / | \\ |\n",
      "o---o---o---o---o\n",
      "| \\ | / | \\ | / |\n",
      "o---o---o---o---o\n",
      "| / | \\ | / | \\ |\n",
      "T---o---G---o---T\n",
      "Goats Dead: 2\n",
      "\n",
      "\n",
      "Player T to (20, 16) for value 41.0\n",
      "o---G---o---o---o\n",
      "| \\ | / | \\ | / |\n",
      "o---T---G---T---o\n",
      "| / | \\ | / | \\ |\n",
      "o---o---o---o---o\n",
      "| \\ | / | \\ | / |\n",
      "o---T---o---o---o\n",
      "| / | \\ | / | \\ |\n",
      "o---o---G---o---T\n",
      "Goats Dead: 2\n",
      "\n",
      "\n",
      "Player G to (-1, 9) for value 8\n",
      "o---G---o---o---o\n",
      "| \\ | / | \\ | / |\n",
      "o---T---G---T---G\n",
      "| / | \\ | / | \\ |\n",
      "o---o---o---o---o\n",
      "| \\ | / | \\ | / |\n",
      "o---T---o---o---o\n",
      "| / | \\ | / | \\ |\n",
      "o---o---G---o---T\n",
      "Goats Dead: 2\n",
      "\n",
      "\n",
      "Player T to (6, 2) for value 44.0\n",
      "o---G---T---o---o\n",
      "| \\ | / | \\ | / |\n",
      "o---o---G---T---G\n",
      "| / | \\ | / | \\ |\n",
      "o---o---o---o---o\n",
      "| \\ | / | \\ | / |\n",
      "o---T---o---o---o\n",
      "| / | \\ | / | \\ |\n",
      "o---o---G---o---T\n",
      "Goats Dead: 2\n",
      "\n",
      "\n",
      "Player G to (-1, 11) for value 8\n",
      "o---G---T---o---o\n",
      "| \\ | / | \\ | / |\n",
      "o---o---G---T---G\n",
      "| / | \\ | / | \\ |\n",
      "o---G---o---o---o\n",
      "| \\ | / | \\ | / |\n",
      "o---T---o---o---o\n",
      "| / | \\ | / | \\ |\n",
      "o---o---G---o---T\n",
      "Goats Dead: 2\n",
      "\n",
      "\n",
      "Player T to (24, 18) for value 47.666666666666664\n",
      "o---G---T---o---o\n",
      "| \\ | / | \\ | / |\n",
      "o---o---G---T---G\n",
      "| / | \\ | / | \\ |\n",
      "o---G---o---o---o\n",
      "| \\ | / | \\ | / |\n",
      "o---T---o---T---o\n",
      "| / | \\ | / | \\ |\n",
      "o---o---G---o---o\n",
      "Goats Dead: 2\n",
      "\n",
      "\n",
      "Player G to (-1, 3) for value 8\n",
      "o---G---T---G---o\n",
      "| \\ | / | \\ | / |\n",
      "o---o---G---T---G\n",
      "| / | \\ | / | \\ |\n",
      "o---G---o---o---o\n",
      "| \\ | / | \\ | / |\n",
      "o---T---o---T---o\n",
      "| / | \\ | / | \\ |\n",
      "o---o---G---o---o\n",
      "Goats Dead: 2\n",
      "\n",
      "\n",
      "Player T to (8, 6) for value 52.57142857142857\n",
      "o---G---T---G---o\n",
      "| \\ | / | \\ | / |\n",
      "o---T---o---o---G\n",
      "| / | \\ | / | \\ |\n",
      "o---G---o---o---o\n",
      "| \\ | / | \\ | / |\n",
      "o---T---o---T---o\n",
      "| / | \\ | / | \\ |\n",
      "o---o---G---o---o\n",
      "Goats Dead: 3\n",
      "\n",
      "\n",
      "Player G to (-1, 5) for value 8\n",
      "o---G---T---G---o\n",
      "| \\ | / | \\ | / |\n",
      "G---T---o---o---G\n",
      "| / | \\ | / | \\ |\n",
      "o---G---o---o---o\n",
      "| \\ | / | \\ | / |\n",
      "o---T---o---T---o\n",
      "| / | \\ | / | \\ |\n",
      "o---o---G---o---o\n",
      "Goats Dead: 3\n",
      "\n",
      "\n",
      "Player T to (6, 10) for value 56.42857142857143\n",
      "o---G---T---G---o\n",
      "| \\ | / | \\ | / |\n",
      "G---o---o---o---G\n",
      "| / | \\ | / | \\ |\n",
      "T---G---o---o---o\n",
      "| \\ | / | \\ | / |\n",
      "o---T---o---T---o\n",
      "| / | \\ | / | \\ |\n",
      "o---o---G---o---o\n",
      "Goats Dead: 3\n",
      "\n",
      "\n",
      "Player G to (-1, 19) for value 8\n",
      "o---G---T---G---o\n",
      "| \\ | / | \\ | / |\n",
      "G---o---o---o---G\n",
      "| / | \\ | / | \\ |\n",
      "T---G---o---o---o\n",
      "| \\ | / | \\ | / |\n",
      "o---T---o---T---G\n",
      "| / | \\ | / | \\ |\n",
      "o---o---G---o---o\n",
      "Goats Dead: 3\n",
      "\n",
      "\n",
      "Player T to (2, 4) for value 60.0\n",
      "o---G---o---o---T\n",
      "| \\ | / | \\ | / |\n",
      "G---o---o---o---G\n",
      "| / | \\ | / | \\ |\n",
      "T---G---o---o---o\n",
      "| \\ | / | \\ | / |\n",
      "o---T---o---T---G\n",
      "| / | \\ | / | \\ |\n",
      "o---o---G---o---o\n",
      "Goats Dead: 4\n",
      "\n",
      "\n",
      "Player G to (-1, 14) for value 0\n",
      "o---G---o---o---T\n",
      "| \\ | / | \\ | / |\n",
      "G---o---o---o---G\n",
      "| / | \\ | / | \\ |\n",
      "T---G---o---o---G\n",
      "| \\ | / | \\ | / |\n",
      "o---T---o---T---G\n",
      "| / | \\ | / | \\ |\n",
      "o---o---G---o---o\n",
      "Goats Dead: 4\n",
      "\n",
      "\n",
      "Player T to (4, 3) for value 60.22222222222222\n",
      "o---G---o---T---o\n",
      "| \\ | / | \\ | / |\n",
      "G---o---o---o---G\n",
      "| / | \\ | / | \\ |\n",
      "T---G---o---o---G\n",
      "| \\ | / | \\ | / |\n",
      "o---T---o---T---G\n",
      "| / | \\ | / | \\ |\n",
      "o---o---G---o---o\n",
      "Goats Dead: 4\n",
      "\n",
      "\n",
      "Player G to (-1, 4) for value 3\n",
      "o---G---o---T---G\n",
      "| \\ | / | \\ | / |\n",
      "G---o---o---o---G\n",
      "| / | \\ | / | \\ |\n",
      "T---G---o---o---G\n",
      "| \\ | / | \\ | / |\n",
      "o---T---o---T---G\n",
      "| / | \\ | / | \\ |\n",
      "o---o---G---o---o\n",
      "Goats Dead: 4\n",
      "\n",
      "\n",
      "Player T to (3, 2) for value 61.888888888888886\n",
      "o---G---T---o---G\n",
      "| \\ | / | \\ | / |\n",
      "G---o---o---o---G\n",
      "| / | \\ | / | \\ |\n",
      "T---G---o---o---G\n",
      "| \\ | / | \\ | / |\n",
      "o---T---o---T---G\n",
      "| / | \\ | / | \\ |\n",
      "o---o---G---o---o\n",
      "Goats Dead: 4\n",
      "\n",
      "\n",
      "Player G to (-1, 0) for value 1\n",
      "G---G---T---o---G\n",
      "| \\ | / | \\ | / |\n",
      "G---o---o---o---G\n",
      "| / | \\ | / | \\ |\n",
      "T---G---o---o---G\n",
      "| \\ | / | \\ | / |\n",
      "o---T---o---T---G\n",
      "| / | \\ | / | \\ |\n",
      "o---o---G---o---o\n",
      "Goats Dead: 4\n",
      "\n",
      "\n",
      "Player T to (10, 12) for value 63.888888888888886\n",
      "G---G---T---o---G\n",
      "| \\ | / | \\ | / |\n",
      "G---o---o---o---G\n",
      "| / | \\ | / | \\ |\n",
      "o---o---T---o---G\n",
      "| \\ | / | \\ | / |\n",
      "o---T---o---T---G\n",
      "| / | \\ | / | \\ |\n",
      "o---o---G---o---o\n",
      "Goats Dead: 5\n",
      "\n",
      "Moves Explored 26635 Moves:  26\n",
      "EBF:  1.4112905616639182\n"
     ]
    }
   ],
   "source": [
    "gamePlay()"
   ]
  },
  {
   "cell_type": "code",
   "execution_count": null,
   "metadata": {
    "collapsed": true
   },
   "outputs": [],
   "source": []
  }
 ],
 "metadata": {
  "kernelspec": {
   "display_name": "Python 3",
   "language": "python",
   "name": "python3"
  },
  "language_info": {
   "codemirror_mode": {
    "name": "ipython",
    "version": 3
   },
   "file_extension": ".py",
   "mimetype": "text/x-python",
   "name": "python",
   "nbconvert_exporter": "python",
   "pygments_lexer": "ipython3",
   "version": "3.5.2"
  }
 },
 "nbformat": 4,
 "nbformat_minor": 2
}
